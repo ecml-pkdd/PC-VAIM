{
  "nbformat": 4,
  "nbformat_minor": 0,
  "metadata": {
    "colab": {
      "name": "PC_VAIM_demo.ipynb",
      "provenance": [],
      "collapsed_sections": []
    },
    "kernelspec": {
      "name": "python3",
      "display_name": "Python 3"
    },
    "language_info": {
      "name": "python"
    },
    "accelerator": "TPU"
  },
  "cells": [
    {
      "cell_type": "code",
      "source": [
        "# -- import the model\n",
        "from pc_vaim import *"
      ],
      "metadata": {
        "id": "4HIVvxsHgI38"
      },
      "execution_count": 4,
      "outputs": []
    },
    {
      "cell_type": "code",
      "source": [
        "# -- generate toy data\n",
        "X_train, X_test, y_train, y_test = generate_data(N_samples=10000)"
      ],
      "metadata": {
        "id": "kgmDCJpzmhW7"
      },
      "execution_count": 5,
      "outputs": []
    },
    {
      "cell_type": "code",
      "source": [
        "# -- instantiate pcvaim object\n",
        "pcvaim = PCVAIM()"
      ],
      "metadata": {
        "colab": {
          "base_uri": "https://localhost:8080/"
        },
        "id": "YsfOHoBxVJcc",
        "outputId": "d9b94b51-bff2-489a-fc36-4c4afa0287dd"
      },
      "execution_count": 7,
      "outputs": [
        {
          "output_type": "stream",
          "name": "stdout",
          "text": [
            "Model: \"model\"\n",
            "__________________________________________________________________________________________________\n",
            " Layer (type)                   Output Shape         Param #     Connected to                     \n",
            "==================================================================================================\n",
            " input_1 (InputLayer)           [(None, 1)]          0           []                               \n",
            "                                                                                                  \n",
            " dense (Dense)                  (None, 512)          1024        ['input_1[0][0]']                \n",
            "                                                                                                  \n",
            " dense_1 (Dense)                (None, 512)          262656      ['dense[0][0]']                  \n",
            "                                                                                                  \n",
            " dense_2 (Dense)                (None, 512)          262656      ['dense_1[0][0]']                \n",
            "                                                                                                  \n",
            " add (Add)                      (None, 512)          0           ['dense[0][0]',                  \n",
            "                                                                  'dense_2[0][0]']                \n",
            "                                                                                                  \n",
            " dense_3 (Dense)                (None, 512)          262656      ['add[0][0]']                    \n",
            "                                                                                                  \n",
            " dense_4 (Dense)                (None, 512)          262656      ['dense_3[0][0]']                \n",
            "                                                                                                  \n",
            " z_mean (Dense)                 (None, 100)          51300       ['dense_3[0][0]']                \n",
            "                                                                                                  \n",
            " z_log_var (Dense)              (None, 100)          51300       ['dense_3[0][0]']                \n",
            "                                                                                                  \n",
            " dense_5 (Dense)                (None, 20)           10260       ['dense_4[0][0]']                \n",
            "                                                                                                  \n",
            " z (Lambda)                     (None, 100)          0           ['z_mean[0][0]',                 \n",
            "                                                                  'z_log_var[0][0]']              \n",
            "                                                                                                  \n",
            " reshape (Reshape)              (None, 10, 2)        0           ['dense_5[0][0]']                \n",
            "                                                                                                  \n",
            "==================================================================================================\n",
            "Total params: 1,164,508\n",
            "Trainable params: 1,164,508\n",
            "Non-trainable params: 0\n",
            "__________________________________________________________________________________________________\n",
            "Model: \"decoder\"\n",
            "__________________________________________________________________________________________________\n",
            " Layer (type)                   Output Shape         Param #     Connected to                     \n",
            "==================================================================================================\n",
            " yx (InputLayer)                [(None, 10, 2)]      0           []                               \n",
            "                                                                                                  \n",
            " conv1d (Conv1D)                (None, 10, 512)      1536        ['yx[0][0]']                     \n",
            "                                                                                                  \n",
            " activation (Activation)        (None, 10, 512)      0           ['conv1d[0][0]']                 \n",
            "                                                                                                  \n",
            " conv1d_1 (Conv1D)              (None, 10, 512)      262656      ['activation[0][0]']             \n",
            "                                                                                                  \n",
            " activation_1 (Activation)      (None, 10, 512)      0           ['conv1d_1[0][0]']               \n",
            "                                                                                                  \n",
            " conv1d_2 (Conv1D)              (None, 10, 512)      262656      ['activation_1[0][0]']           \n",
            "                                                                                                  \n",
            " activation_2 (Activation)      (None, 10, 512)      0           ['conv1d_2[0][0]']               \n",
            "                                                                                                  \n",
            " global_max_pooling1d (GlobalMa  (None, 512)         0           ['activation_2[0][0]']           \n",
            " xPooling1D)                                                                                      \n",
            "                                                                                                  \n",
            " dense_6 (Dense)                (None, 256)          131328      ['global_max_pooling1d[0][0]']   \n",
            "                                                                                                  \n",
            " activation_3 (Activation)      (None, 256)          0           ['dense_6[0][0]']                \n",
            "                                                                                                  \n",
            " dense_7 (Dense)                (None, 512)          131584      ['activation_3[0][0]']           \n",
            "                                                                                                  \n",
            " activation_4 (Activation)      (None, 512)          0           ['dense_7[0][0]']                \n",
            "                                                                                                  \n",
            " dense_8 (Dense)                (None, 4)            2052        ['activation_4[0][0]']           \n",
            "                                                                                                  \n",
            " reshape_1 (Reshape)            (None, 2, 2)         0           ['dense_8[0][0]']                \n",
            "                                                                                                  \n",
            " dot (Dot)                      (None, 10, 2)        0           ['yx[0][0]',                     \n",
            "                                                                  'reshape_1[0][0]']              \n",
            "                                                                                                  \n",
            " conv1d_3 (Conv1D)              (None, 10, 512)      1536        ['dot[0][0]']                    \n",
            "                                                                                                  \n",
            " activation_5 (Activation)      (None, 10, 512)      0           ['conv1d_3[0][0]']               \n",
            "                                                                                                  \n",
            " conv1d_4 (Conv1D)              (None, 10, 1024)     525312      ['activation_5[0][0]']           \n",
            "                                                                                                  \n",
            " activation_6 (Activation)      (None, 10, 1024)     0           ['conv1d_4[0][0]']               \n",
            "                                                                                                  \n",
            " conv1d_5 (Conv1D)              (None, 10, 512)      524800      ['activation_6[0][0]']           \n",
            "                                                                                                  \n",
            " activation_7 (Activation)      (None, 10, 512)      0           ['conv1d_5[0][0]']               \n",
            "                                                                                                  \n",
            " add_1 (Add)                    (None, 10, 512)      0           ['activation_5[0][0]',           \n",
            "                                                                  'activation_7[0][0]']           \n",
            "                                                                                                  \n",
            " conv1d_6 (Conv1D)              (None, 10, 512)      262656      ['add_1[0][0]']                  \n",
            "                                                                                                  \n",
            " activation_8 (Activation)      (None, 10, 512)      0           ['conv1d_6[0][0]']               \n",
            "                                                                                                  \n",
            " conv1d_7 (Conv1D)              (None, 10, 512)      262656      ['activation_8[0][0]']           \n",
            "                                                                                                  \n",
            " activation_9 (Activation)      (None, 10, 512)      0           ['conv1d_7[0][0]']               \n",
            "                                                                                                  \n",
            " conv1d_8 (Conv1D)              (None, 10, 512)      262656      ['activation_9[0][0]']           \n",
            "                                                                                                  \n",
            " activation_10 (Activation)     (None, 10, 512)      0           ['conv1d_8[0][0]']               \n",
            "                                                                                                  \n",
            " global_max_pooling1d_1 (Global  (None, 512)         0           ['activation_10[0][0]']          \n",
            " MaxPooling1D)                                                                                    \n",
            "                                                                                                  \n",
            " dense_9 (Dense)                (None, 256)          131328      ['global_max_pooling1d_1[0][0]'] \n",
            "                                                                                                  \n",
            " activation_11 (Activation)     (None, 256)          0           ['dense_9[0][0]']                \n",
            "                                                                                                  \n",
            " dense_10 (Dense)               (None, 512)          131584      ['activation_11[0][0]']          \n",
            "                                                                                                  \n",
            " activation_12 (Activation)     (None, 512)          0           ['dense_10[0][0]']               \n",
            "                                                                                                  \n",
            " dense_11 (Dense)               (None, 262144)       134479872   ['activation_12[0][0]']          \n",
            "                                                                                                  \n",
            " reshape_2 (Reshape)            (None, 512, 512)     0           ['dense_11[0][0]']               \n",
            "                                                                                                  \n",
            " dot_1 (Dot)                    (None, 10, 512)      0           ['add_1[0][0]',                  \n",
            "                                                                  'reshape_2[0][0]']              \n",
            "                                                                                                  \n",
            " input_2 (InputLayer)           [(None, 100)]        0           []                               \n",
            "                                                                                                  \n",
            " global_max_pooling1d_2 (Global  (None, 512)         0           ['dot_1[0][0]']                  \n",
            " MaxPooling1D)                                                                                    \n",
            "                                                                                                  \n",
            " concat (Concatenate)           (None, 612)          0           ['input_2[0][0]',                \n",
            "                                                                  'global_max_pooling1d_2[0][0]'] \n",
            "                                                                                                  \n",
            " dense_12 (Dense)               (None, 1024)         627712      ['concat[0][0]']                 \n",
            "                                                                                                  \n",
            " dense_13 (Dense)               (None, 512)          524800      ['dense_12[0][0]']               \n",
            "                                                                                                  \n",
            " dense_14 (Dense)               (None, 1024)         525312      ['dense_13[0][0]']               \n",
            "                                                                                                  \n",
            " dense_15 (Dense)               (None, 1024)         1049600     ['dense_14[0][0]']               \n",
            "                                                                                                  \n",
            " param_output (Dense)           (None, 1)            1025        ['dense_15[0][0]']               \n",
            "                                                                                                  \n",
            " lambda (Lambda)                (None, 10, 2)        0           ['yx[0][0]']                     \n",
            "                                                                                                  \n",
            "==================================================================================================\n",
            "Total params: 140,102,661\n",
            "Trainable params: 140,102,661\n",
            "Non-trainable params: 0\n",
            "__________________________________________________________________________________________________\n"
          ]
        }
      ]
    },
    {
      "cell_type": "code",
      "source": [
        "# -- train the model\n",
        "pcvaim.train(X_train, y_train)"
      ],
      "metadata": {
        "id": "sOdedCpSVJSH"
      },
      "execution_count": 10,
      "outputs": []
    },
    {
      "cell_type": "code",
      "source": [
        "latent_mean, latent_std, z = predict(pcvaim, y_train)\n",
        "z_samples = sample(latent_mean, latent_std, y_train)\n",
        "point_cloud = generate_test_example(z)\n",
        "results = pcvaim.decoder.predict([z_samples, point_cloud])"
      ],
      "metadata": {
        "id": "lyeKIQ9fkS3e"
      },
      "execution_count": 11,
      "outputs": []
    },
    {
      "cell_type": "code",
      "source": [
        "a = results[0]"
      ],
      "metadata": {
        "id": "YSYZLp0zzazu"
      },
      "execution_count": 29,
      "outputs": []
    },
    {
      "cell_type": "code",
      "source": [
        "plt.figure(figsize = (10,4))\n",
        "plt.tick_params(labelsize = 20)\n",
        "plt.hist(a[:,0], bins=100, histtype = 'step', color = 'darkgreen', label = r'$\\rm PC-VAIM$')\n",
        "plt.xlabel(r'$\\rm a $', size=20)\n",
        "plt.axvline(1, linestyle='dashed',color= 'r',label=r'$\\rm  True$' )\n",
        "plt.axvline(-1, linestyle='dashed',color= 'r')\n",
        "plt.legend(frameon = 0, loc = 'upper center', fontsize = 20)\n",
        "plt.show()"
      ],
      "metadata": {
        "id": "-s6Zucj90yS7"
      },
      "execution_count": 12,
      "outputs": []
    },
    {
      "cell_type": "code",
      "source": [
        ""
      ],
      "metadata": {
        "id": "MRaPy4H7tX6s"
      },
      "execution_count": null,
      "outputs": []
    }
  ]
}