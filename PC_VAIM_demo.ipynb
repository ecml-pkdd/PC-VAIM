{
  "nbformat": 4,
  "nbformat_minor": 0,
  "metadata": {
    "colab": {
      "name": "PC_VAIM_demo.ipynb",
      "provenance": [],
      "collapsed_sections": []
    },
    "kernelspec": {
      "name": "python3",
      "display_name": "Python 3"
    },
    "language_info": {
      "name": "python"
    },
    "accelerator": "GPU"
  },
  "cells": [
    {
      "cell_type": "code",
      "source": [
        "from sklearn.preprocessing import StandardScaler, MinMaxScaler"
      ],
      "metadata": {
        "id": "EQDSo3Ids8hB"
      },
      "execution_count": 2,
      "outputs": []
    },
    {
      "cell_type": "code",
      "source": [
        "# -- import the model\n",
        "from pc_vaim import *"
      ],
      "metadata": {
        "id": "4HIVvxsHgI38"
      },
      "execution_count": 3,
      "outputs": []
    },
    {
      "cell_type": "code",
      "source": [
        "# -- generate toy data\n",
        "X_train, X_test, y_train, y_test = generate_data(N_samples=20000)"
      ],
      "metadata": {
        "id": "kgmDCJpzmhW7"
      },
      "execution_count": 32,
      "outputs": []
    },
    {
      "cell_type": "code",
      "source": [
        "# -- instantiate pcvaim object\n",
        "pcvaim = PCVAIM()"
      ],
      "metadata": {
        "colab": {
          "base_uri": "https://localhost:8080/"
        },
        "id": "YsfOHoBxVJcc",
        "outputId": "6651890b-f52d-4ba7-adff-a4c721dacba5"
      },
      "execution_count": 34,
      "outputs": [
        {
          "output_type": "stream",
          "name": "stdout",
          "text": [
            "Model: \"model_8\"\n",
            "__________________________________________________________________________________________________\n",
            " Layer (type)                   Output Shape         Param #     Connected to                     \n",
            "==================================================================================================\n",
            " input_9 (InputLayer)           [(None, 1)]          0           []                               \n",
            "                                                                                                  \n",
            " dense_64 (Dense)               (None, 512)          1024        ['input_9[0][0]']                \n",
            "                                                                                                  \n",
            " dense_65 (Dense)               (None, 512)          262656      ['dense_64[0][0]']               \n",
            "                                                                                                  \n",
            " dense_66 (Dense)               (None, 512)          262656      ['dense_65[0][0]']               \n",
            "                                                                                                  \n",
            " add_8 (Add)                    (None, 512)          0           ['dense_64[0][0]',               \n",
            "                                                                  'dense_66[0][0]']               \n",
            "                                                                                                  \n",
            " dense_67 (Dense)               (None, 512)          262656      ['add_8[0][0]']                  \n",
            "                                                                                                  \n",
            " dense_68 (Dense)               (None, 512)          262656      ['dense_67[0][0]']               \n",
            "                                                                                                  \n",
            " z_mean (Dense)                 (None, 100)          51300       ['dense_67[0][0]']               \n",
            "                                                                                                  \n",
            " z_log_var (Dense)              (None, 100)          51300       ['dense_67[0][0]']               \n",
            "                                                                                                  \n",
            " dense_69 (Dense)               (None, 20)           10260       ['dense_68[0][0]']               \n",
            "                                                                                                  \n",
            " z (Lambda)                     (None, 100)          0           ['z_mean[0][0]',                 \n",
            "                                                                  'z_log_var[0][0]']              \n",
            "                                                                                                  \n",
            " reshape_12 (Reshape)           (None, 10, 2)        0           ['dense_69[0][0]']               \n",
            "                                                                                                  \n",
            "==================================================================================================\n",
            "Total params: 1,164,508\n",
            "Trainable params: 1,164,508\n",
            "Non-trainable params: 0\n",
            "__________________________________________________________________________________________________\n",
            "Model: \"decoder\"\n",
            "__________________________________________________________________________________________________\n",
            " Layer (type)                   Output Shape         Param #     Connected to                     \n",
            "==================================================================================================\n",
            " yx (InputLayer)                [(None, 10, 2)]      0           []                               \n",
            "                                                                                                  \n",
            " conv1d_36 (Conv1D)             (None, 10, 512)      1536        ['yx[0][0]']                     \n",
            "                                                                                                  \n",
            " activation_52 (Activation)     (None, 10, 512)      0           ['conv1d_36[0][0]']              \n",
            "                                                                                                  \n",
            " conv1d_37 (Conv1D)             (None, 10, 512)      262656      ['activation_52[0][0]']          \n",
            "                                                                                                  \n",
            " activation_53 (Activation)     (None, 10, 512)      0           ['conv1d_37[0][0]']              \n",
            "                                                                                                  \n",
            " conv1d_38 (Conv1D)             (None, 10, 512)      262656      ['activation_53[0][0]']          \n",
            "                                                                                                  \n",
            " activation_54 (Activation)     (None, 10, 512)      0           ['conv1d_38[0][0]']              \n",
            "                                                                                                  \n",
            " global_max_pooling1d_12 (Globa  (None, 512)         0           ['activation_54[0][0]']          \n",
            " lMaxPooling1D)                                                                                   \n",
            "                                                                                                  \n",
            " dense_70 (Dense)               (None, 256)          131328      ['global_max_pooling1d_12[0][0]']\n",
            "                                                                                                  \n",
            " activation_55 (Activation)     (None, 256)          0           ['dense_70[0][0]']               \n",
            "                                                                                                  \n",
            " dense_71 (Dense)               (None, 512)          131584      ['activation_55[0][0]']          \n",
            "                                                                                                  \n",
            " activation_56 (Activation)     (None, 512)          0           ['dense_71[0][0]']               \n",
            "                                                                                                  \n",
            " dense_72 (Dense)               (None, 4)            2052        ['activation_56[0][0]']          \n",
            "                                                                                                  \n",
            " reshape_13 (Reshape)           (None, 2, 2)         0           ['dense_72[0][0]']               \n",
            "                                                                                                  \n",
            " dot_8 (Dot)                    (None, 10, 2)        0           ['yx[0][0]',                     \n",
            "                                                                  'reshape_13[0][0]']             \n",
            "                                                                                                  \n",
            " conv1d_39 (Conv1D)             (None, 10, 512)      1536        ['dot_8[0][0]']                  \n",
            "                                                                                                  \n",
            " activation_57 (Activation)     (None, 10, 512)      0           ['conv1d_39[0][0]']              \n",
            "                                                                                                  \n",
            " conv1d_40 (Conv1D)             (None, 10, 1024)     525312      ['activation_57[0][0]']          \n",
            "                                                                                                  \n",
            " activation_58 (Activation)     (None, 10, 1024)     0           ['conv1d_40[0][0]']              \n",
            "                                                                                                  \n",
            " conv1d_41 (Conv1D)             (None, 10, 512)      524800      ['activation_58[0][0]']          \n",
            "                                                                                                  \n",
            " activation_59 (Activation)     (None, 10, 512)      0           ['conv1d_41[0][0]']              \n",
            "                                                                                                  \n",
            " add_9 (Add)                    (None, 10, 512)      0           ['activation_57[0][0]',          \n",
            "                                                                  'activation_59[0][0]']          \n",
            "                                                                                                  \n",
            " conv1d_42 (Conv1D)             (None, 10, 512)      262656      ['add_9[0][0]']                  \n",
            "                                                                                                  \n",
            " activation_60 (Activation)     (None, 10, 512)      0           ['conv1d_42[0][0]']              \n",
            "                                                                                                  \n",
            " conv1d_43 (Conv1D)             (None, 10, 512)      262656      ['activation_60[0][0]']          \n",
            "                                                                                                  \n",
            " activation_61 (Activation)     (None, 10, 512)      0           ['conv1d_43[0][0]']              \n",
            "                                                                                                  \n",
            " conv1d_44 (Conv1D)             (None, 10, 512)      262656      ['activation_61[0][0]']          \n",
            "                                                                                                  \n",
            " activation_62 (Activation)     (None, 10, 512)      0           ['conv1d_44[0][0]']              \n",
            "                                                                                                  \n",
            " global_max_pooling1d_13 (Globa  (None, 512)         0           ['activation_62[0][0]']          \n",
            " lMaxPooling1D)                                                                                   \n",
            "                                                                                                  \n",
            " dense_73 (Dense)               (None, 256)          131328      ['global_max_pooling1d_13[0][0]']\n",
            "                                                                                                  \n",
            " activation_63 (Activation)     (None, 256)          0           ['dense_73[0][0]']               \n",
            "                                                                                                  \n",
            " dense_74 (Dense)               (None, 512)          131584      ['activation_63[0][0]']          \n",
            "                                                                                                  \n",
            " activation_64 (Activation)     (None, 512)          0           ['dense_74[0][0]']               \n",
            "                                                                                                  \n",
            " dense_75 (Dense)               (None, 262144)       134479872   ['activation_64[0][0]']          \n",
            "                                                                                                  \n",
            " reshape_14 (Reshape)           (None, 512, 512)     0           ['dense_75[0][0]']               \n",
            "                                                                                                  \n",
            " dot_9 (Dot)                    (None, 10, 512)      0           ['add_9[0][0]',                  \n",
            "                                                                  'reshape_14[0][0]']             \n",
            "                                                                                                  \n",
            " input_10 (InputLayer)          [(None, 100)]        0           []                               \n",
            "                                                                                                  \n",
            " global_max_pooling1d_14 (Globa  (None, 512)         0           ['dot_9[0][0]']                  \n",
            " lMaxPooling1D)                                                                                   \n",
            "                                                                                                  \n",
            " concat (Concatenate)           (None, 612)          0           ['input_10[0][0]',               \n",
            "                                                                  'global_max_pooling1d_14[0][0]']\n",
            "                                                                                                  \n",
            " dense_76 (Dense)               (None, 1024)         627712      ['concat[0][0]']                 \n",
            "                                                                                                  \n",
            " dense_77 (Dense)               (None, 512)          524800      ['dense_76[0][0]']               \n",
            "                                                                                                  \n",
            " dense_78 (Dense)               (None, 1024)         525312      ['dense_77[0][0]']               \n",
            "                                                                                                  \n",
            " dense_79 (Dense)               (None, 1024)         1049600     ['dense_78[0][0]']               \n",
            "                                                                                                  \n",
            " param_output (Dense)           (None, 1)            1025        ['dense_79[0][0]']               \n",
            "                                                                                                  \n",
            " lambda_4 (Lambda)              (None, 10, 2)        0           ['yx[0][0]']                     \n",
            "                                                                                                  \n",
            "==================================================================================================\n",
            "Total params: 140,102,661\n",
            "Trainable params: 140,102,661\n",
            "Non-trainable params: 0\n",
            "__________________________________________________________________________________________________\n"
          ]
        }
      ]
    },
    {
      "cell_type": "code",
      "source": [
        "pcvaim.epochs = 5\n",
        "pcvaim.BATCH_SIZE = 512"
      ],
      "metadata": {
        "id": "rq8M8BAOroWk"
      },
      "execution_count": 52,
      "outputs": []
    },
    {
      "cell_type": "code",
      "source": [
        "# -- train the model\n",
        "pcvaim.train(X_train, y_train)"
      ],
      "metadata": {
        "colab": {
          "base_uri": "https://localhost:8080/"
        },
        "id": "sOdedCpSVJSH",
        "outputId": "3321ce10-3eca-4356-c5b6-338383098b9c"
      },
      "execution_count": 57,
      "outputs": [
        {
          "output_type": "stream",
          "name": "stdout",
          "text": [
            "Train on 12800 samples, validate on 3200 samples\n",
            "Epoch 1/5\n",
            "12800/12800 [==============================] - ETA: 0s - loss: 13.3676 - decoder_loss: 0.0203 - decoder_1_loss: 13.2406\n",
            "Epoch 1: val_loss improved from inf to 13.89012, saving model to outputs/\n",
            "INFO:tensorflow:Assets written to: outputs/assets\n",
            "12800/12800 [==============================] - 28s 2ms/sample - loss: 13.3676 - decoder_loss: 0.0203 - decoder_1_loss: 13.2406 - val_loss: 13.8901 - val_decoder_loss: 0.0185 - val_decoder_1_loss: 13.7652\n",
            "Epoch 2/5\n",
            "12800/12800 [==============================] - ETA: 0s - loss: 13.3671 - decoder_loss: 0.0216 - decoder_1_loss: 13.2396\n",
            "Epoch 2: val_loss did not improve from 13.89012\n",
            "12800/12800 [==============================] - 11s 878us/sample - loss: 13.3671 - decoder_loss: 0.0216 - decoder_1_loss: 13.2396 - val_loss: 13.8940 - val_decoder_loss: 0.0305 - val_decoder_1_loss: 13.7581\n",
            "Epoch 3/5\n",
            "12800/12800 [==============================] - ETA: 0s - loss: 13.3689 - decoder_loss: 0.0208 - decoder_1_loss: 13.2432\n",
            "Epoch 3: val_loss improved from 13.89012 to 13.87525, saving model to outputs/\n",
            "INFO:tensorflow:Assets written to: outputs/assets\n",
            "12800/12800 [==============================] - 28s 2ms/sample - loss: 13.3689 - decoder_loss: 0.0208 - decoder_1_loss: 13.2432 - val_loss: 13.8752 - val_decoder_loss: 0.0206 - val_decoder_1_loss: 13.7501\n",
            "Epoch 4/5\n",
            "12800/12800 [==============================] - ETA: 0s - loss: 13.3624 - decoder_loss: 0.0175 - decoder_1_loss: 13.2409\n",
            "Epoch 4: val_loss did not improve from 13.87525\n",
            "12800/12800 [==============================] - 11s 876us/sample - loss: 13.3624 - decoder_loss: 0.0175 - decoder_1_loss: 13.2409 - val_loss: 13.8878 - val_decoder_loss: 0.0203 - val_decoder_1_loss: 13.7640\n",
            "Epoch 5/5\n",
            "12800/12800 [==============================] - ETA: 0s - loss: 13.3692 - decoder_loss: 0.0201 - decoder_1_loss: 13.2460\n",
            "Epoch 5: val_loss improved from 13.87525 to 13.85655, saving model to outputs/\n",
            "INFO:tensorflow:Assets written to: outputs/assets\n",
            "12800/12800 [==============================] - 28s 2ms/sample - loss: 13.3692 - decoder_loss: 0.0201 - decoder_1_loss: 13.2460 - val_loss: 13.8566 - val_decoder_loss: 0.0205 - val_decoder_1_loss: 13.7334\n"
          ]
        },
        {
          "output_type": "execute_result",
          "data": {
            "text/plain": [
              "<keras.callbacks.History at 0x7f9d86838ed0>"
            ]
          },
          "metadata": {},
          "execution_count": 57
        }
      ]
    },
    {
      "cell_type": "code",
      "source": [
        "latent_mean, latent_std, z = predict(pcvaim, y_train)\n",
        "z_samples = sample(latent_mean, latent_std, y_train)\n",
        "point_cloud = generate_test_example(z)\n",
        "results = pcvaim.decoder.predict([z_samples, point_cloud])"
      ],
      "metadata": {
        "id": "lyeKIQ9fkS3e"
      },
      "execution_count": 58,
      "outputs": []
    },
    {
      "cell_type": "code",
      "source": [
        "a = results[0]"
      ],
      "metadata": {
        "id": "YSYZLp0zzazu"
      },
      "execution_count": 59,
      "outputs": []
    },
    {
      "cell_type": "code",
      "source": [
        "plt.figure(figsize = (10,4))\n",
        "plt.tick_params(labelsize = 20)\n",
        "plt.hist(a[:,0], bins=100, histtype = 'step', color = 'darkgreen', label = r'$\\rm PC-VAIM$')\n",
        "plt.xlabel(r'$\\rm a $', size=20)\n",
        "plt.axvline(1, linestyle='dashed',color= 'r',label=r'$\\rm  True$' )\n",
        "plt.axvline(-1, linestyle='dashed',color= 'r')\n",
        "plt.legend(frameon = 0, loc = 'upper center', fontsize = 20)\n",
        "plt.show()"
      ],
      "metadata": {
        "colab": {
          "base_uri": "https://localhost:8080/",
          "height": 297
        },
        "id": "o8PIddxWppen",
        "outputId": "ba7e9882-bf53-4743-ac5f-4682237d22d9"
      },
      "execution_count": 60,
      "outputs": [
        {
          "output_type": "display_data",
          "data": {
            "text/plain": [
              "<Figure size 720x288 with 1 Axes>"
            ],
            "image/png": "[encoded data removed]"
          },
          "metadata": {
            "needs_background": "light"
          }
        }
      ]
    },
    {
      "cell_type": "code",
      "source": [
        "plt.figure(figsize = (10,4))\n",
        "plt.tick_params(labelsize = 20)\n",
        "plt.hist(a[:,0], bins=100, histtype = 'step', color = 'darkgreen', label = r'$\\rm PC-VAIM$')\n",
        "plt.xlabel(r'$\\rm a $', size=20)\n",
        "plt.axvline(1, linestyle='dashed',color= 'r',label=r'$\\rm  True$' )\n",
        "plt.axvline(-1, linestyle='dashed',color= 'r')\n",
        "plt.legend(frameon = 0, loc = 'upper center', fontsize = 20)\n",
        "plt.show()"
      ],
      "metadata": {
        "colab": {
          "base_uri": "https://localhost:8080/",
          "height": 297
        },
        "id": "-s6Zucj90yS7",
        "outputId": "468dfa55-3ced-489b-a513-d3dc36c02b28"
      },
      "execution_count": 47,
      "outputs": [
        {
          "output_type": "display_data",
          "data": {
            "text/plain": [
              "<Figure size 720x288 with 1 Axes>"
            ],
            "image/png": "[encoded data removed]"
          },
          "metadata": {
            "needs_background": "light"
          }
        }
      ]
    },
    {
      "cell_type": "code",
      "source": [
        ""
      ],
      "metadata": {
        "id": "MRaPy4H7tX6s"
      },
      "execution_count": null,
      "outputs": []
    }
  ]
}